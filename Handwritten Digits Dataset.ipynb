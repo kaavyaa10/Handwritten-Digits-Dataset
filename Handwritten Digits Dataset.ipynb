{
 "cells": [
  {
   "cell_type": "markdown",
   "id": "44da65a0",
   "metadata": {},
   "source": [
    "# Import Libarary"
   ]
  },
  {
   "cell_type": "code",
   "execution_count": 4,
   "id": "37f3155d",
   "metadata": {},
   "outputs": [],
   "source": [
    "import pandas as pd"
   ]
  },
  {
   "cell_type": "code",
   "execution_count": 2,
   "id": "139566a0",
   "metadata": {},
   "outputs": [],
   "source": [
    "import numpy as np"
   ]
  },
  {
   "cell_type": "code",
   "execution_count": 3,
   "id": "5b21924a",
   "metadata": {},
   "outputs": [],
   "source": [
    "import matplotlib.pyplot as plt"
   ]
  },
  {
   "cell_type": "markdown",
   "id": "e00609e3",
   "metadata": {},
   "source": [
    "# Import Data\n"
   ]
  },
  {
   "cell_type": "code",
   "execution_count": 5,
   "id": "3b0f6be6",
   "metadata": {},
   "outputs": [],
   "source": [
    "from sklearn.datasets import load_digits"
   ]
  },
  {
   "cell_type": "code",
   "execution_count": 6,
   "id": "12d2ba91",
   "metadata": {},
   "outputs": [],
   "source": [
    "df= load_digits()"
   ]
  },
  {
   "cell_type": "code",
   "execution_count": 10,
   "id": "bd9c6fb0",
   "metadata": {},
   "outputs": [
    {
     "data": {
      "image/png": "[encoded data removed]",
      "text/plain": [
       "<Figure size 720x216 with 4 Axes>"
      ]
     },
     "metadata": {
      "needs_background": "light"
     },
     "output_type": "display_data"
    }
   ],
   "source": [
    "_, axes = plt.subplots(nrows=1, ncols=4, figsize=(10,3))\n",
    "for ax, image, label in zip(axes, df.images, df.target):\n",
    "    ax.set_axis_off()\n",
    "    ax.imshow(image, cmap=plt.cm.gray_r, interpolation=\"nearest\")\n",
    "    ax.set_title(\"Training: %i\" %label)"
   ]
  },
  {
   "cell_type": "markdown",
   "id": "2399145a",
   "metadata": {},
   "source": [
    "# Data Preprocessing"
   ]
  },
  {
   "cell_type": "markdown",
   "id": "6dd098d8",
   "metadata": {},
   "source": [
    "Flatten Image"
   ]
  },
  {
   "cell_type": "code",
   "execution_count": 12,
   "id": "6a6393ed",
   "metadata": {},
   "outputs": [
    {
     "data": {
      "text/plain": [
       "(1797, 8, 8)"
      ]
     },
     "execution_count": 12,
     "metadata": {},
     "output_type": "execute_result"
    }
   ],
   "source": [
    "df.images.shape"
   ]
  },
  {
   "cell_type": "code",
   "execution_count": 13,
   "id": "aced2a4d",
   "metadata": {},
   "outputs": [
    {
     "data": {
      "text/plain": [
       "array([[ 0.,  0.,  5., 13.,  9.,  1.,  0.,  0.],\n",
       "       [ 0.,  0., 13., 15., 10., 15.,  5.,  0.],\n",
       "       [ 0.,  3., 15.,  2.,  0., 11.,  8.,  0.],\n",
       "       [ 0.,  4., 12.,  0.,  0.,  8.,  8.,  0.],\n",
       "       [ 0.,  5.,  8.,  0.,  0.,  9.,  8.,  0.],\n",
       "       [ 0.,  4., 11.,  0.,  1., 12.,  7.,  0.],\n",
       "       [ 0.,  2., 14.,  5., 10., 12.,  0.,  0.],\n",
       "       [ 0.,  0.,  6., 13., 10.,  0.,  0.,  0.]])"
      ]
     },
     "execution_count": 13,
     "metadata": {},
     "output_type": "execute_result"
    }
   ],
   "source": [
    "df.images[0]"
   ]
  },
  {
   "cell_type": "code",
   "execution_count": 14,
   "id": "db43403a",
   "metadata": {},
   "outputs": [
    {
     "data": {
      "text/plain": [
       "(8, 8)"
      ]
     },
     "execution_count": 14,
     "metadata": {},
     "output_type": "execute_result"
    }
   ],
   "source": [
    "df.images[0].shape"
   ]
  },
  {
   "cell_type": "code",
   "execution_count": 15,
   "id": "f4b01527",
   "metadata": {},
   "outputs": [
    {
     "data": {
      "text/plain": [
       "1797"
      ]
     },
     "execution_count": 15,
     "metadata": {},
     "output_type": "execute_result"
    }
   ],
   "source": [
    "len(df.images)"
   ]
  },
  {
   "cell_type": "code",
   "execution_count": 17,
   "id": "f1f97a1d",
   "metadata": {},
   "outputs": [],
   "source": [
    "n_samples = len(df.images)\n",
    "data = df.images.reshape((n_samples, -1))"
   ]
  },
  {
   "cell_type": "code",
   "execution_count": 18,
   "id": "78bcb103",
   "metadata": {},
   "outputs": [
    {
     "data": {
      "text/plain": [
       "array([ 0.,  0.,  5., 13.,  9.,  1.,  0.,  0.,  0.,  0., 13., 15., 10.,\n",
       "       15.,  5.,  0.,  0.,  3., 15.,  2.,  0., 11.,  8.,  0.,  0.,  4.,\n",
       "       12.,  0.,  0.,  8.,  8.,  0.,  0.,  5.,  8.,  0.,  0.,  9.,  8.,\n",
       "        0.,  0.,  4., 11.,  0.,  1., 12.,  7.,  0.,  0.,  2., 14.,  5.,\n",
       "       10., 12.,  0.,  0.,  0.,  0.,  6., 13., 10.,  0.,  0.,  0.])"
      ]
     },
     "execution_count": 18,
     "metadata": {},
     "output_type": "execute_result"
    }
   ],
   "source": [
    "data[0]"
   ]
  },
  {
   "cell_type": "code",
   "execution_count": 19,
   "id": "e2df3ae7",
   "metadata": {},
   "outputs": [
    {
     "data": {
      "text/plain": [
       "(64,)"
      ]
     },
     "execution_count": 19,
     "metadata": {},
     "output_type": "execute_result"
    }
   ],
   "source": [
    "data[0].shape"
   ]
  },
  {
   "cell_type": "code",
   "execution_count": 20,
   "id": "e96f1d76",
   "metadata": {},
   "outputs": [
    {
     "data": {
      "text/plain": [
       "(1797, 64)"
      ]
     },
     "execution_count": 20,
     "metadata": {},
     "output_type": "execute_result"
    }
   ],
   "source": [
    "data.shape"
   ]
  },
  {
   "cell_type": "markdown",
   "id": "1d61c75f",
   "metadata": {},
   "source": [
    "# Scaling Image Data"
   ]
  },
  {
   "cell_type": "code",
   "execution_count": 21,
   "id": "38ad1eac",
   "metadata": {},
   "outputs": [
    {
     "data": {
      "text/plain": [
       "0.0"
      ]
     },
     "execution_count": 21,
     "metadata": {},
     "output_type": "execute_result"
    }
   ],
   "source": [
    "data.min()"
   ]
  },
  {
   "cell_type": "code",
   "execution_count": 22,
   "id": "a8673483",
   "metadata": {},
   "outputs": [
    {
     "data": {
      "text/plain": [
       "16.0"
      ]
     },
     "execution_count": 22,
     "metadata": {},
     "output_type": "execute_result"
    }
   ],
   "source": [
    "data.max()"
   ]
  },
  {
   "cell_type": "code",
   "execution_count": 23,
   "id": "61a61edd",
   "metadata": {},
   "outputs": [],
   "source": [
    "data=data/16"
   ]
  },
  {
   "cell_type": "code",
   "execution_count": 24,
   "id": "9320aa4e",
   "metadata": {},
   "outputs": [
    {
     "data": {
      "text/plain": [
       "0.0"
      ]
     },
     "execution_count": 24,
     "metadata": {},
     "output_type": "execute_result"
    }
   ],
   "source": [
    "data.min()"
   ]
  },
  {
   "cell_type": "code",
   "execution_count": 25,
   "id": "5f8232af",
   "metadata": {},
   "outputs": [
    {
     "data": {
      "text/plain": [
       "1.0"
      ]
     },
     "execution_count": 25,
     "metadata": {},
     "output_type": "execute_result"
    }
   ],
   "source": [
    "data.max()"
   ]
  },
  {
   "cell_type": "code",
   "execution_count": 26,
   "id": "04b5bb75",
   "metadata": {},
   "outputs": [
    {
     "data": {
      "text/plain": [
       "array([0.    , 0.    , 0.3125, 0.8125, 0.5625, 0.0625, 0.    , 0.    ,\n",
       "       0.    , 0.    , 0.8125, 0.9375, 0.625 , 0.9375, 0.3125, 0.    ,\n",
       "       0.    , 0.1875, 0.9375, 0.125 , 0.    , 0.6875, 0.5   , 0.    ,\n",
       "       0.    , 0.25  , 0.75  , 0.    , 0.    , 0.5   , 0.5   , 0.    ,\n",
       "       0.    , 0.3125, 0.5   , 0.    , 0.    , 0.5625, 0.5   , 0.    ,\n",
       "       0.    , 0.25  , 0.6875, 0.    , 0.0625, 0.75  , 0.4375, 0.    ,\n",
       "       0.    , 0.125 , 0.875 , 0.3125, 0.625 , 0.75  , 0.    , 0.    ,\n",
       "       0.    , 0.    , 0.375 , 0.8125, 0.625 , 0.    , 0.    , 0.    ])"
      ]
     },
     "execution_count": 26,
     "metadata": {},
     "output_type": "execute_result"
    }
   ],
   "source": [
    "data[0]"
   ]
  },
  {
   "cell_type": "markdown",
   "id": "cd0f852f",
   "metadata": {},
   "source": [
    "# Train Test Split Data"
   ]
  },
  {
   "cell_type": "code",
   "execution_count": 27,
   "id": "31adf0b2",
   "metadata": {},
   "outputs": [],
   "source": [
    "from sklearn.model_selection import train_test_split"
   ]
  },
  {
   "cell_type": "code",
   "execution_count": 28,
   "id": "5a59ad3e",
   "metadata": {},
   "outputs": [],
   "source": [
    "x_train,x_test,y_train,y_test = train_test_split(data, df.target, test_size= 0.3)"
   ]
  },
  {
   "cell_type": "code",
   "execution_count": 29,
   "id": "df512e59",
   "metadata": {},
   "outputs": [
    {
     "data": {
      "text/plain": [
       "((1257, 64), (540, 64), (1257,), (540,))"
      ]
     },
     "execution_count": 29,
     "metadata": {},
     "output_type": "execute_result"
    }
   ],
   "source": [
    "x_train.shape, x_test.shape, y_train.shape, y_test.shape"
   ]
  },
  {
   "cell_type": "markdown",
   "id": "1e01a713",
   "metadata": {},
   "source": [
    "# Random Forest Model"
   ]
  },
  {
   "cell_type": "code",
   "execution_count": 30,
   "id": "d2b5c844",
   "metadata": {},
   "outputs": [],
   "source": [
    "from sklearn.ensemble import RandomForestClassifier"
   ]
  },
  {
   "cell_type": "code",
   "execution_count": 31,
   "id": "b089a843",
   "metadata": {},
   "outputs": [],
   "source": [
    "rf= RandomForestClassifier()"
   ]
  },
  {
   "cell_type": "code",
   "execution_count": 32,
   "id": "415f252d",
   "metadata": {},
   "outputs": [
    {
     "data": {
      "text/plain": [
       "RandomForestClassifier()"
      ]
     },
     "execution_count": 32,
     "metadata": {},
     "output_type": "execute_result"
    }
   ],
   "source": [
    "rf.fit(x_train, y_train)"
   ]
  },
  {
   "cell_type": "markdown",
   "id": "f205f733",
   "metadata": {},
   "source": [
    "# Predict Test Data"
   ]
  },
  {
   "cell_type": "code",
   "execution_count": 33,
   "id": "bc8d922d",
   "metadata": {},
   "outputs": [],
   "source": [
    "y_pred = rf.predict(x_test)"
   ]
  },
  {
   "cell_type": "code",
   "execution_count": 34,
   "id": "0d93218e",
   "metadata": {},
   "outputs": [
    {
     "data": {
      "text/plain": [
       "array([6, 1, 3, 4, 4, 1, 9, 9, 7, 8, 1, 5, 0, 8, 9, 2, 8, 3, 4, 4, 1, 8,\n",
       "       8, 1, 2, 4, 5, 3, 2, 2, 5, 4, 5, 7, 1, 5, 3, 6, 4, 4, 5, 6, 5, 2,\n",
       "       8, 9, 4, 4, 6, 8, 0, 9, 9, 2, 4, 1, 1, 2, 7, 8, 1, 4, 5, 9, 9, 7,\n",
       "       6, 2, 0, 5, 8, 2, 7, 3, 2, 1, 1, 6, 4, 3, 3, 9, 0, 0, 1, 0, 0, 1,\n",
       "       8, 9, 2, 1, 1, 2, 4, 7, 5, 0, 2, 1, 0, 3, 1, 7, 7, 7, 3, 8, 8, 4,\n",
       "       9, 3, 5, 0, 3, 5, 0, 9, 9, 0, 6, 2, 0, 7, 5, 9, 0, 6, 6, 3, 5, 1,\n",
       "       3, 5, 7, 5, 7, 7, 4, 8, 6, 9, 8, 5, 3, 9, 4, 6, 5, 3, 6, 2, 7, 7,\n",
       "       9, 2, 1, 4, 0, 6, 0, 4, 8, 5, 8, 2, 5, 8, 9, 6, 7, 5, 5, 7, 5, 7,\n",
       "       5, 7, 9, 9, 8, 4, 6, 0, 3, 7, 9, 8, 6, 4, 3, 3, 7, 4, 6, 2, 1, 1,\n",
       "       2, 0, 1, 8, 7, 0, 4, 5, 6, 5, 1, 4, 6, 8, 3, 2, 6, 6, 5, 2, 5, 8,\n",
       "       9, 3, 7, 1, 7, 1, 1, 7, 8, 0, 8, 4, 6, 1, 1, 4, 8, 0, 1, 1, 3, 7,\n",
       "       0, 1, 1, 4, 8, 9, 4, 8, 6, 0, 2, 1, 3, 9, 0, 2, 4, 2, 7, 2, 2, 1,\n",
       "       9, 5, 5, 1, 6, 4, 8, 1, 9, 5, 2, 7, 1, 5, 1, 9, 1, 9, 3, 0, 0, 7,\n",
       "       0, 0, 3, 6, 0, 6, 2, 9, 1, 1, 8, 6, 1, 4, 4, 1, 6, 2, 9, 3, 3, 8,\n",
       "       0, 3, 0, 1, 7, 8, 6, 0, 1, 7, 5, 3, 3, 3, 7, 8, 7, 6, 3, 8, 4, 3,\n",
       "       5, 7, 1, 2, 1, 5, 2, 2, 5, 2, 4, 5, 4, 7, 0, 7, 6, 9, 3, 7, 7, 7,\n",
       "       6, 4, 9, 1, 8, 1, 3, 1, 5, 4, 3, 6, 5, 9, 2, 0, 4, 0, 8, 5, 1, 7,\n",
       "       3, 9, 1, 7, 9, 0, 0, 7, 9, 5, 9, 1, 7, 7, 4, 6, 3, 2, 6, 8, 5, 6,\n",
       "       4, 4, 8, 3, 4, 9, 9, 0, 5, 7, 1, 6, 4, 1, 0, 5, 5, 8, 5, 2, 3, 9,\n",
       "       0, 1, 6, 7, 0, 0, 9, 0, 6, 4, 4, 3, 7, 8, 1, 0, 1, 0, 7, 4, 8, 9,\n",
       "       8, 4, 8, 9, 6, 8, 9, 5, 4, 2, 0, 6, 3, 6, 0, 8, 2, 4, 4, 2, 9, 6,\n",
       "       1, 1, 5, 7, 2, 3, 8, 0, 3, 5, 3, 7, 8, 4, 8, 4, 4, 1, 4, 1, 4, 2,\n",
       "       9, 4, 5, 6, 2, 6, 0, 2, 2, 9, 6, 9, 6, 2, 5, 2, 2, 6, 1, 4, 6, 0,\n",
       "       4, 1, 5, 8, 7, 2, 4, 8, 7, 3, 0, 3, 6, 4, 8, 3, 9, 2, 5, 3, 2, 9,\n",
       "       6, 1, 6, 4, 7, 9, 2, 4, 4, 2, 3, 2])"
      ]
     },
     "execution_count": 34,
     "metadata": {},
     "output_type": "execute_result"
    }
   ],
   "source": [
    "y_pred"
   ]
  },
  {
   "cell_type": "markdown",
   "id": "c3fe9330",
   "metadata": {},
   "source": [
    "# Model Accuracy"
   ]
  },
  {
   "cell_type": "code",
   "execution_count": 35,
   "id": "a0cb33c5",
   "metadata": {},
   "outputs": [],
   "source": [
    "from sklearn.metrics import confusion_matrix, classification_report"
   ]
  },
  {
   "cell_type": "code",
   "execution_count": 36,
   "id": "02f84768",
   "metadata": {},
   "outputs": [
    {
     "data": {
      "text/plain": [
       "array([[51,  0,  0,  0,  1,  0,  0,  0,  0,  0],\n",
       "       [ 0, 60,  0,  0,  0,  0,  0,  0,  0,  0],\n",
       "       [ 0,  0, 53,  0,  0,  0,  0,  0,  0,  0],\n",
       "       [ 0,  0,  0, 48,  0,  2,  0,  1,  0,  0],\n",
       "       [ 0,  0,  0,  0, 60,  0,  0,  1,  0,  0],\n",
       "       [ 0,  0,  0,  0,  0, 49,  0,  0,  1,  0],\n",
       "       [ 0,  0,  0,  0,  1,  0, 52,  0,  0,  0],\n",
       "       [ 0,  0,  0,  0,  0,  0,  0, 50,  0,  0],\n",
       "       [ 0,  5,  0,  0,  1,  1,  0,  0, 49,  0],\n",
       "       [ 0,  0,  0,  1,  0,  1,  0,  1,  0, 51]], dtype=int64)"
      ]
     },
     "execution_count": 36,
     "metadata": {},
     "output_type": "execute_result"
    }
   ],
   "source": [
    "confusion_matrix(y_test, y_pred)"
   ]
  },
  {
   "cell_type": "code",
   "execution_count": 37,
   "id": "f3e409fc",
   "metadata": {},
   "outputs": [
    {
     "name": "stdout",
     "output_type": "stream",
     "text": [
      "              precision    recall  f1-score   support\n",
      "\n",
      "           0       1.00      0.98      0.99        52\n",
      "           1       0.92      1.00      0.96        60\n",
      "           2       1.00      1.00      1.00        53\n",
      "           3       0.98      0.94      0.96        51\n",
      "           4       0.95      0.98      0.97        61\n",
      "           5       0.92      0.98      0.95        50\n",
      "           6       1.00      0.98      0.99        53\n",
      "           7       0.94      1.00      0.97        50\n",
      "           8       0.98      0.88      0.92        56\n",
      "           9       1.00      0.94      0.97        54\n",
      "\n",
      "    accuracy                           0.97       540\n",
      "   macro avg       0.97      0.97      0.97       540\n",
      "weighted avg       0.97      0.97      0.97       540\n",
      "\n"
     ]
    }
   ],
   "source": [
    "print(classification_report(y_test, y_pred))"
   ]
  }
 ],
 "metadata": {
  "kernelspec": {
   "display_name": "Python 3 (ipykernel)",
   "language": "python",
   "name": "python3"
  },
  "language_info": {
   "codemirror_mode": {
    "name": "ipython",
    "version": 3
   },
   "file_extension": ".py",
   "mimetype": "text/x-python",
   "name": "python",
   "nbconvert_exporter": "python",
   "pygments_lexer": "ipython3",
   "version": "3.9.12"
  }
 },
 "nbformat": 4,
 "nbformat_minor": 5
}
